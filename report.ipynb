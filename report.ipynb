{
 "cells": [
  {
   "cell_type": "code",
   "id": "initial_id",
   "metadata": {
    "collapsed": true,
    "ExecuteTime": {
     "end_time": "2024-05-05T18:08:27.838313Z",
     "start_time": "2024-05-05T18:08:25.589816Z"
    }
   },
   "source": "import pandas as pd",
   "outputs": [],
   "execution_count": 1
  },
  {
   "metadata": {
    "ExecuteTime": {
     "end_time": "2024-05-05T18:13:23.222861Z",
     "start_time": "2024-05-05T18:13:23.219629Z"
    }
   },
   "cell_type": "code",
   "source": [
    "def add(a, b):\n",
    "    if not isinstance(a, (int, float)):\n",
    "        raise TypeError('a must be an integer')\n",
    "    \n",
    "    if not isinstance(b, (int, float)):\n",
    "        raise TypeError('b must be an integer')\n",
    "\n",
    "    return a + b"
   ],
   "id": "4b90a61fddfc4776",
   "outputs": [],
   "execution_count": 2
  },
  {
   "metadata": {},
   "cell_type": "code",
   "outputs": [],
   "execution_count": null,
   "source": "",
   "id": "d66ace788a948e44"
  }
 ],
 "metadata": {
  "kernelspec": {
   "display_name": "Python 3",
   "language": "python",
   "name": "python3"
  },
  "language_info": {
   "codemirror_mode": {
    "name": "ipython",
    "version": 2
   },
   "file_extension": ".py",
   "mimetype": "text/x-python",
   "name": "python",
   "nbconvert_exporter": "python",
   "pygments_lexer": "ipython2",
   "version": "2.7.6"
  }
 },
 "nbformat": 4,
 "nbformat_minor": 5
}
